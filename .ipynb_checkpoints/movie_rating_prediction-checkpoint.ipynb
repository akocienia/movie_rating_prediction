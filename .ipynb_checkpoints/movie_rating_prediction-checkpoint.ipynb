{
 "cells": [
  {
   "cell_type": "code",
   "execution_count": null,
   "metadata": {},
   "outputs": [],
   "source": []
  },
  {
   "cell_type": "code",
   "execution_count": null,
   "metadata": {},
   "outputs": [],
   "source": [
    "import pandas as pd\n",
    "import xgboost as xgb\n",
    "from sklearn import preprocessing\n",
    "from sklearn import utils\n",
    "from sklearn.svm import SVC\n",
    "from sklearn.model_selection import cross_val_score, GridSearchCV, train_test_split\n",
    "from sklearn.metrics import accuracy_score, confusion_matrix\n",
    "from sklearn import ensemble\n",
    "from sklearn.metrics import mean_squared_error, r2_score, mean_absolute_error"
   ]
  },
  {
   "cell_type": "code",
   "execution_count": null,
   "metadata": {},
   "outputs": [],
   "source": [
    "# wczytaj dane"
   ]
  },
  {
   "cell_type": "code",
   "execution_count": null,
   "metadata": {},
   "outputs": [],
   "source": [
    "# x i y \n",
    "y = check.averageRating"
   ]
  },
  {
   "cell_type": "code",
   "execution_count": null,
   "metadata": {},
   "outputs": [],
   "source": [
    "X_train, X_test, y_train, y_test = train_test_split(\n",
    "    x, y, test_size=0.2, random_state=42\n",
    ")"
   ]
  },
  {
   "cell_type": "code",
   "execution_count": null,
   "metadata": {},
   "outputs": [],
   "source": [
    "svm_classifier = SVC(random_state=42)\n",
    "svm_classifier.fit(X_train, y_train)"
   ]
  },
  {
   "cell_type": "code",
   "execution_count": null,
   "metadata": {},
   "outputs": [],
   "source": [
    "predictions_svm = svm_classifier.predict(X_test)\n",
    "print(\"Accuracy: \", np.round(accuracy_score(y_test, predictions_svm), 2))"
   ]
  },
  {
   "cell_type": "code",
   "execution_count": null,
   "metadata": {},
   "outputs": [],
   "source": [
    "labels = list(set(y_train))\n",
    "cm_svm = confusion_matrix(y_test, predictions_svm, labels)\n",
    "ax = plt.subplot()\n",
    "sns.heatmap(cm_svm, annot=True, cmap=\"Blues\", ax=ax, fmt=\"g\")\n",
    "ax.set_xlabel(\"Predicted labels\")\n",
    "ax.set_ylabel(\"True labels\")\n",
    "ax.set_title(\"Confusion matrix\", fontsize=20)\n",
    "ax.set_xticklabels([\"\"] + labels)\n",
    "ax.set_yticklabels([\"\"] + labels)\n",
    "plt.show()"
   ]
  },
  {
   "cell_type": "code",
   "execution_count": null,
   "metadata": {},
   "outputs": [],
   "source": [
    "xgb_classifier = xgb.XGBClassifier(random_state=42)\n",
    "xgb_classifier.fit(X_train, y_train)\n",
    "predictions_xgb = xgb_classifier.predict(X_test)\n",
    "print(\"Accuracy: \", np.round(accuracy_score(y_test, predictions_xgb), 2))"
   ]
  },
  {
   "cell_type": "code",
   "execution_count": null,
   "metadata": {},
   "outputs": [],
   "source": [
    "labels = list(set(y_train))\n",
    "cm_svm = confusion_matrix(y_test, predictions_xgb, labels)\n",
    "ax = plt.subplot()\n",
    "sns.heatmap(cm_svm, annot=True, cmap=\"Blues\", ax=ax, fmt=\"g\")\n",
    "ax.set_xlabel(\"Predicted labels\")\n",
    "ax.set_ylabel(\"True labels\")\n",
    "ax.set_title(\"Confusion matrix\", fontsize=20)\n",
    "ax.set_xticklabels([\"\"] + labels)\n",
    "ax.set_yticklabels([\"\"] + labels)\n",
    "plt.show()"
   ]
  },
  {
   "cell_type": "code",
   "execution_count": null,
   "metadata": {},
   "outputs": [],
   "source": [
    "fig, ax = plt.subplots(figsize=(12, 18))\n",
    "xgb.plot_importance(xgb_classifier, max_num_features=50, height=0.8, ax=ax)\n",
    "plt.show()"
   ]
  },
  {
   "cell_type": "code",
   "execution_count": null,
   "metadata": {},
   "outputs": [],
   "source": [
    "# Fit regression model\n",
    "params = {\n",
    "    \"n_estimators\": 500,\n",
    "    \"max_depth\": 8,\n",
    "    \"min_samples_split\": 2,\n",
    "    \"learning_rate\": 0.01,\n",
    "    \"loss\": \"ls\",\n",
    "}\n",
    "model = ensemble.GradientBoostingRegressor(**params)\n",
    "\n",
    "model.fit(X_train, y_train)\n",
    "mse = mean_squared_error(y_test, np.round(model.predict(X_test), 1))\n",
    "print(mse)\n",
    "r2 = r2_score(y_test, np.round(model.predict(X_test), 1))\n",
    "mae = mean_absolute_error(y_test, np.round(model.predict(X_test), 1))\n",
    "print(mae)"
   ]
  }
 ],
 "metadata": {
  "kernelspec": {
   "display_name": "Python 3",
   "language": "python",
   "name": "python3"
  },
  "language_info": {
   "codemirror_mode": {
    "name": "ipython",
    "version": 3
   },
   "file_extension": ".py",
   "mimetype": "text/x-python",
   "name": "python",
   "nbconvert_exporter": "python",
   "pygments_lexer": "ipython3",
   "version": "3.7.1"
  }
 },
 "nbformat": 4,
 "nbformat_minor": 2
}
