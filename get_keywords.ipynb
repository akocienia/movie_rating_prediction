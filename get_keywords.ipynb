{
 "cells": [
  {
   "cell_type": "code",
   "execution_count": 1,
   "metadata": {},
   "outputs": [],
   "source": [
    "%load_ext lab_black"
   ]
  },
  {
   "cell_type": "code",
   "execution_count": 2,
   "metadata": {},
   "outputs": [],
   "source": [
    "import time\n",
    "import numpy as np\n",
    "import pandas as pd\n",
    "from imdb import IMDb\n",
    "from tqdm import tqdm"
   ]
  },
  {
   "cell_type": "code",
   "execution_count": 3,
   "metadata": {},
   "outputs": [],
   "source": [
    "df = pd.read_csv(\"titles_id.csv\", header=None)"
   ]
  },
  {
   "cell_type": "code",
   "execution_count": 5,
   "metadata": {},
   "outputs": [],
   "source": [
    "ia = IMDb()"
   ]
  },
  {
   "cell_type": "code",
   "execution_count": null,
   "metadata": {},
   "outputs": [],
   "source": [
    "title = []\n",
    "keywords = []\n",
    "counter = 0\n",
    "list_of_movies = df.iloc[:,1].values\n",
    "for title_id in tqdm(list_of_movies):\n",
    "    movie = ia.get_movie(title_id[2:])\n",
    "    title.append(str(movie.get('title') or np.nan))\n",
    "    ia.update(movie, 'keywords')\n",
    "    try:\n",
    "        keywords.append(movie['keywords'])\n",
    "    except:\n",
    "        keywords.append(\"no keywords\")\n",
    "    counter = counter+1\n",
    "    if counter % 100 == 0:\n",
    "        additional_info = pd.DataFrame(list(zip(title, keywords)),columns=[\"title\", \"keywords\"])\n",
    "        additional_info.to_csv(\"keywords.csv\")"
   ]
  },
  {
   "cell_type": "code",
   "execution_count": null,
   "metadata": {},
   "outputs": [],
   "source": [
    "keywords_all = additional_info"
   ]
  },
  {
   "cell_type": "code",
   "execution_count": null,
   "metadata": {},
   "outputs": [],
   "source": [
    "keywords_all.drop(columns=[\"Unnamed: 0\"], inplace=True)\n",
    "keywords_all.drop_duplicates(inplace=True)\n",
    "keywords_all[\"keywords\"] = keywords_all[\"keywords\"].str.replace('[', '')\n",
    "keywords_all[\"keywords\"] = keywords_all[\"keywords\"].str.replace(']', '')\n",
    "keywords_all[\"keywords\"] = keywords_all[\"keywords\"].str.replace(\"'\", '')\n",
    "keywords_all[\"keywords\"] = keywords_all[\"keywords\"].str.replace('\"', '')"
   ]
  },
  {
   "cell_type": "code",
   "execution_count": null,
   "metadata": {},
   "outputs": [],
   "source": [
    "keywords_all.to_csv(\"data/keywords_processed.csv\")"
   ]
  }
 ],
 "metadata": {
  "kernelspec": {
   "display_name": "Python 3",
   "language": "python",
   "name": "python3"
  },
  "language_info": {
   "codemirror_mode": {
    "name": "ipython",
    "version": 3
   },
   "file_extension": ".py",
   "mimetype": "text/x-python",
   "name": "python",
   "nbconvert_exporter": "python",
   "pygments_lexer": "ipython3",
   "version": "3.7.1"
  }
 },
 "nbformat": 4,
 "nbformat_minor": 2
}
