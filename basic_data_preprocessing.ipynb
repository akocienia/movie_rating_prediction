{
 "cells": [
  {
   "cell_type": "code",
   "execution_count": 1,
   "metadata": {},
   "outputs": [],
   "source": [
    "%load_ext lab_black"
   ]
  },
  {
   "cell_type": "markdown",
   "metadata": {},
   "source": [
    "#### 1) Load some packages that will be needed"
   ]
  },
  {
   "cell_type": "code",
   "execution_count": 2,
   "metadata": {},
   "outputs": [],
   "source": [
    "import pandas as pd\n",
    "import numpy as np\n",
    "import seaborn as sns\n",
    "from imdb import IMDb\n",
    "from matplotlib import pyplot as plt\n",
    "from scipy.stats import normaltest\n",
    "\n",
    "%matplotlib inline"
   ]
  },
  {
   "cell_type": "markdown",
   "metadata": {},
   "source": [
    "#### 2) Load all needed data"
   ]
  },
  {
   "cell_type": "code",
   "execution_count": 3,
   "metadata": {},
   "outputs": [],
   "source": [
    "# loading IMDB data about movies\n",
    "titles = pd.read_csv(\"data/title_basics.tsv\", sep=\"\\t\", low_memory=False)\n",
    "ratings = pd.read_csv(\"data/title_ratings.tsv\", sep=\"\\t\", low_memory=False)\n",
    "akas = pd.read_csv(\"data/title_akas.tsv\", sep=\"\\t\", low_memory=False)"
   ]
  },
  {
   "cell_type": "markdown",
   "metadata": {},
   "source": [
    "#### 3) Define functions"
   ]
  },
  {
   "cell_type": "code",
   "execution_count": 4,
   "metadata": {},
   "outputs": [],
   "source": [
    "def prepare_title_data(titles=titles, akas=akas, after_1990=True):\n",
    "    \"\"\"Return clean titles of movies only (tv shows or series removed)\"\"\"\n",
    "    titles = titles[titles.titleType == \"movie\"]\n",
    "    titles = titles.replace(r\"\\\\N\", np.nan, regex=True)\n",
    "    titles.startYear = pd.to_numeric(titles.startYear)\n",
    "    titles.runtimeMinutes = pd.to_numeric(titles.runtimeMinutes)\n",
    "    if after_1990:\n",
    "        titles = titles[titles.startYear > 1990]\n",
    "    titles = titles.merge(\n",
    "        akas[[\"titleId\", \"region\", \"language\"]],\n",
    "        left_on=\"tconst\",\n",
    "        right_on=\"titleId\",\n",
    "        how=\"left\",\n",
    "    )\n",
    "    titles = titles[\n",
    "        [\n",
    "            \"tconst\",\n",
    "            \"originalTitle\",\n",
    "            \"startYear\",\n",
    "            \"runtimeMinutes\",\n",
    "            \"genres\",\n",
    "            \"region\",\n",
    "            \"language\",\n",
    "        ]\n",
    "    ]\n",
    "    titles.fillna(\"no value\", inplace=True)\n",
    "    titles = (\n",
    "        titles.groupby(\n",
    "            [\"tconst\", \"originalTitle\", \"startYear\", \"runtimeMinutes\", \"genres\"]\n",
    "        )\n",
    "        .agg(lambda x: \",\".join(set(x)))\n",
    "        .reset_index()\n",
    "    )\n",
    "    return titles"
   ]
  },
  {
   "cell_type": "code",
   "execution_count": 5,
   "metadata": {},
   "outputs": [],
   "source": [
    "def add_rating_to_movies(titles=titles, ratings=ratings, votes_limit=75):\n",
    "    \"\"\"Merge movie ratings with their titles. Possible to reduce the dataset using votes_limit.\"\"\"\n",
    "    titles_with_rating = titles.merge(ratings, how=\"left\", on=\"tconst\")\n",
    "    titles_with_rating.dropna(subset=[\"averageRating\"], inplace=True)\n",
    "    if votes_limit:\n",
    "        titles_with_rating = titles_with_rating[\n",
    "            titles_with_rating.numVotes > votes_limit\n",
    "        ]\n",
    "    return titles_with_rating"
   ]
  },
  {
   "cell_type": "code",
   "execution_count": 6,
   "metadata": {},
   "outputs": [],
   "source": [
    "def get_dummies(data, column):\n",
    "    \"\"\"Return movies dataset with dummy genre variables.\"\"\"\n",
    "    subset = data[column].str.get_dummies(sep=\",\")\n",
    "    data.index = subset.index\n",
    "    final_df = pd.concat([data, subset], axis=1)\n",
    "    final_df.drop(columns=[column], inplace=True)\n",
    "    return final_df"
   ]
  },
  {
   "cell_type": "markdown",
   "metadata": {},
   "source": [
    "#### 4) Preprocess the data to get the final dataframe"
   ]
  },
  {
   "cell_type": "code",
   "execution_count": 7,
   "metadata": {},
   "outputs": [],
   "source": [
    "step1 = prepare_title_data()\n",
    "step2 = add_rating_to_movies(titles=step1)\n",
    "step3 = get_dummies(step2, \"genres\")\n",
    "step4 = get_dummies(step3, \"language\")\n",
    "df_final = get_dummies(step4, \"region\")"
   ]
  },
  {
   "cell_type": "code",
   "execution_count": 9,
   "metadata": {},
   "outputs": [
    {
     "data": {
      "text/html": [
       "<div>\n",
       "<style scoped>\n",
       "    .dataframe tbody tr th:only-of-type {\n",
       "        vertical-align: middle;\n",
       "    }\n",
       "\n",
       "    .dataframe tbody tr th {\n",
       "        vertical-align: top;\n",
       "    }\n",
       "\n",
       "    .dataframe thead th {\n",
       "        text-align: right;\n",
       "    }\n",
       "</style>\n",
       "<table border=\"1\" class=\"dataframe\">\n",
       "  <thead>\n",
       "    <tr style=\"text-align: right;\">\n",
       "      <th></th>\n",
       "      <th>tconst</th>\n",
       "      <th>originalTitle</th>\n",
       "      <th>startYear</th>\n",
       "      <th>runtimeMinutes</th>\n",
       "      <th>averageRating</th>\n",
       "      <th>numVotes</th>\n",
       "      <th>Action</th>\n",
       "      <th>Adult</th>\n",
       "      <th>Adventure</th>\n",
       "      <th>Animation</th>\n",
       "      <th>...</th>\n",
       "      <th>XNA</th>\n",
       "      <th>XSA</th>\n",
       "      <th>XWG</th>\n",
       "      <th>XWW</th>\n",
       "      <th>XYU</th>\n",
       "      <th>YE</th>\n",
       "      <th>YUCS</th>\n",
       "      <th>ZA</th>\n",
       "      <th>\\N</th>\n",
       "      <th>no value</th>\n",
       "    </tr>\n",
       "  </thead>\n",
       "  <tbody>\n",
       "    <tr>\n",
       "      <th>114</th>\n",
       "      <td>tt0099296</td>\n",
       "      <td>La condanna</td>\n",
       "      <td>1991.0</td>\n",
       "      <td>92</td>\n",
       "      <td>6.1</td>\n",
       "      <td>207.0</td>\n",
       "      <td>0</td>\n",
       "      <td>0</td>\n",
       "      <td>0</td>\n",
       "      <td>0</td>\n",
       "      <td>...</td>\n",
       "      <td>0</td>\n",
       "      <td>0</td>\n",
       "      <td>0</td>\n",
       "      <td>0</td>\n",
       "      <td>0</td>\n",
       "      <td>0</td>\n",
       "      <td>0</td>\n",
       "      <td>0</td>\n",
       "      <td>0</td>\n",
       "      <td>1</td>\n",
       "    </tr>\n",
       "  </tbody>\n",
       "</table>\n",
       "<p>1 rows × 271 columns</p>\n",
       "</div>"
      ],
      "text/plain": [
       "        tconst originalTitle  startYear runtimeMinutes  averageRating  \\\n",
       "114  tt0099296   La condanna     1991.0             92            6.1   \n",
       "\n",
       "     numVotes  Action  Adult  Adventure  Animation    ...     XNA  XSA  XWG  \\\n",
       "114     207.0       0      0          0          0    ...       0    0    0   \n",
       "\n",
       "     XWW  XYU  YE  YUCS  ZA  \\N  no value  \n",
       "114    0    0   0     0   0   0         1  \n",
       "\n",
       "[1 rows x 271 columns]"
      ]
     },
     "execution_count": 9,
     "metadata": {},
     "output_type": "execute_result"
    }
   ],
   "source": [
    "df_final[df_final.tconst == \"tt0099296\"]"
   ]
  },
  {
   "cell_type": "markdown",
   "metadata": {},
   "source": [
    "#### 5) Save file to csv"
   ]
  },
  {
   "cell_type": "code",
   "execution_count": 8,
   "metadata": {},
   "outputs": [],
   "source": [
    "df_final.to_csv(\"data/movies_with_ratings.csv\")"
   ]
  }
 ],
 "metadata": {
  "kernelspec": {
   "display_name": "Python 3",
   "language": "python",
   "name": "python3"
  },
  "language_info": {
   "codemirror_mode": {
    "name": "ipython",
    "version": 3
   },
   "file_extension": ".py",
   "mimetype": "text/x-python",
   "name": "python",
   "nbconvert_exporter": "python",
   "pygments_lexer": "ipython3",
   "version": "3.7.1"
  }
 },
 "nbformat": 4,
 "nbformat_minor": 4
}
