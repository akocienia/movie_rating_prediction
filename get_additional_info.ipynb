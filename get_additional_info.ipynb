{
 "cells": [
  {
   "cell_type": "code",
   "execution_count": 1,
   "metadata": {},
   "outputs": [],
   "source": [
    "%load_ext lab_black"
   ]
  },
  {
   "cell_type": "code",
   "execution_count": 1,
   "metadata": {},
   "outputs": [],
   "source": [
    "import time\n",
    "import pandas as pd\n",
    "import numpy as np\n",
    "from tqdm import tqdm\n",
    "from imdb import IMDb"
   ]
  },
  {
   "cell_type": "code",
   "execution_count": 2,
   "metadata": {},
   "outputs": [],
   "source": [
    "titles = pd.read_csv(\"titles_id.csv\", header=None)"
   ]
  },
  {
   "cell_type": "code",
   "execution_count": 3,
   "metadata": {},
   "outputs": [],
   "source": [
    "list_of_movies = titles.iloc[:, 1].values"
   ]
  },
  {
   "cell_type": "code",
   "execution_count": 4,
   "metadata": {},
   "outputs": [],
   "source": [
    "ia = IMDb()"
   ]
  },
  {
   "cell_type": "code",
   "execution_count": 5,
   "metadata": {},
   "outputs": [],
   "source": [
    "title = []\n",
    "box_office = []\n",
    "color = []\n",
    "air_date = []\n",
    "production_company = []\n",
    "distribution = []"
   ]
  },
  {
   "cell_type": "code",
   "execution_count": 6,
   "metadata": {},
   "outputs": [],
   "source": [
    "counter = 0"
   ]
  },
  {
   "cell_type": "code",
   "execution_count": null,
   "metadata": {},
   "outputs": [],
   "source": [
    "# loop to get them all! (or some at least)\n",
    "for title_id in tqdm(list_of_movies):\n",
    "    movie = ia.get_movie(title_id[2:])\n",
    "    title.append(str(movie.get(\"title\") or np.nan))\n",
    "    box_office.append(str(movie.get(\"box office\") or np.nan))\n",
    "    color.append(str(movie.get(\"color\") or np.nan))\n",
    "    air_date.append(str(movie.get(\"original air date\") or np.nan))\n",
    "    production_company.append(movie.get(\"production companies\") or np.nan)\n",
    "    distribution.append(movie.get(\"distributors\") or np.nan)\n",
    "    counter = counter + 1\n",
    "    tqdm._instances.clear()\n",
    "    if counter % 100 == 0:\n",
    "        budget = []\n",
    "        for element in box_office:\n",
    "            try:\n",
    "                budget.append(\n",
    "                    int(eval(element)[\"Budget\"].split(\" \", 1)[0][1:].replace(\",\", \"\"))\n",
    "                )\n",
    "            except:\n",
    "                budget.append(np.nan)\n",
    "        colors = []\n",
    "        for element in color:\n",
    "            if \"Color\" in element:\n",
    "                colors.append(\"color\")\n",
    "            elif \"Black and White\" in element:\n",
    "                colors.append(\"black_and_white\")\n",
    "            else:\n",
    "                colors.append(np.nan)\n",
    "        company_changed = []\n",
    "        for element in production_company:\n",
    "            if element == element:\n",
    "                company_changed.append([str(element[k]) for k in range(len(element))])\n",
    "            else:\n",
    "                company_changed.append(np.nan)\n",
    "        companies = []\n",
    "        for element in company_changed:\n",
    "            if element == element:\n",
    "                companies.append(\",\".join(element))\n",
    "            else:\n",
    "                companies.append(\"nothing\")\n",
    "        distribution_changed = []\n",
    "        for element in distribution:\n",
    "            if element == element:\n",
    "                distribution_changed.append(\n",
    "                    [str(element[k]) for k in range(len(element))]\n",
    "                )\n",
    "            else:\n",
    "                distribution_changed.append(np.nan)\n",
    "        dist = []\n",
    "        for element in company_changed:\n",
    "            if element == element:\n",
    "                dist.append(\",\".join(element))\n",
    "            else:\n",
    "                dist.append(\"nothing\")\n",
    "        additional_info = pd.DataFrame(\n",
    "            list(zip(title, budget, colors, air_date, companies, dist)),\n",
    "            columns=[\n",
    "                \"title\",\n",
    "                \"budget\",\n",
    "                \"colors\",\n",
    "                \"air_date\",\n",
    "                \"production_company\",\n",
    "                \"distribution\",\n",
    "            ],\n",
    "        )\n",
    "        additional_info.to_csv(\"data/additional_info.csv\")"
   ]
  },
  {
   "cell_type": "code",
   "execution_count": 7,
   "metadata": {},
   "outputs": [],
   "source": [
    "additional_info = pd.read_csv(\"data/additional_info.csv\")"
   ]
  },
  {
   "cell_type": "code",
   "execution_count": 8,
   "metadata": {},
   "outputs": [],
   "source": [
    "df_additional = additional_info[\n",
    "    [\"title\", \"budget\", \"colors\", \"air_date\", \"distribution\"]\n",
    "]"
   ]
  },
  {
   "cell_type": "code",
   "execution_count": 9,
   "metadata": {},
   "outputs": [
    {
     "name": "stderr",
     "output_type": "stream",
     "text": [
      "C:\\Users\\Alicja Kocieniewska\\Anaconda3\\lib\\site-packages\\ipykernel_launcher.py:1: SettingWithCopyWarning: \n",
      "A value is trying to be set on a copy of a slice from a DataFrame.\n",
      "Try using .loc[row_indexer,col_indexer] = value instead\n",
      "\n",
      "See the caveats in the documentation: http://pandas.pydata.org/pandas-docs/stable/indexing.html#indexing-view-versus-copy\n",
      "  \"\"\"Entry point for launching an IPython kernel.\n"
     ]
    }
   ],
   "source": [
    "df_additional[\"air_country\"] = df_additional[\"air_date\"].str.extract(r\"\\((.*?)\\)\")"
   ]
  },
  {
   "cell_type": "code",
   "execution_count": 10,
   "metadata": {},
   "outputs": [],
   "source": [
    "df_additional[\"air_month\"] = (\n",
    "    df_additional[\"air_date\"].str.replace(\"[^a-zA-Z]\", \"\").str[:3]\n",
    ")"
   ]
  },
  {
   "cell_type": "code",
   "execution_count": 11,
   "metadata": {},
   "outputs": [],
   "source": [
    "df_additional.drop(columns=\"air_date\", inplace=True)"
   ]
  },
  {
   "cell_type": "code",
   "execution_count": 12,
   "metadata": {},
   "outputs": [],
   "source": [
    "def correct_month(row):\n",
    "    if row[\"air_month\"] in [\n",
    "        \"Jun\",\n",
    "        \"Feb\",\n",
    "        \"Mar\",\n",
    "        \"Apr\",\n",
    "        \"May\",\n",
    "        \"Jun\",\n",
    "        \"Jul\",\n",
    "        \"Aug\",\n",
    "        \"Sep\",\n",
    "        \"Oct\",\n",
    "        \"Nov\",\n",
    "        \"Dec\",\n",
    "    ]:\n",
    "        return row[\"air_month\"]\n",
    "    return np.nan"
   ]
  },
  {
   "cell_type": "code",
   "execution_count": 13,
   "metadata": {},
   "outputs": [],
   "source": [
    "df_additional[\"air_month\"] = df_additional.apply(lambda row: correct_month(row), axis=1)"
   ]
  },
  {
   "cell_type": "code",
   "execution_count": 14,
   "metadata": {},
   "outputs": [
    {
     "data": {
      "text/plain": [
       "array(['Mar', 'Nov', nan, 'Oct', 'Apr', 'Sep', 'Jun', 'May', 'Feb', 'Aug',\n",
       "       'Jul', 'Dec'], dtype=object)"
      ]
     },
     "execution_count": 14,
     "metadata": {},
     "output_type": "execute_result"
    }
   ],
   "source": [
    "df_additional.air_month.unique()"
   ]
  },
  {
   "cell_type": "code",
   "execution_count": 15,
   "metadata": {},
   "outputs": [],
   "source": [
    "dist = df_additional[[\"title\", \"distribution\"]]"
   ]
  },
  {
   "cell_type": "code",
   "execution_count": 16,
   "metadata": {},
   "outputs": [],
   "source": [
    "def tidy_split(df, column, sep=\",\", keep=False):\n",
    "    indexes = list()\n",
    "    new_values = list()\n",
    "    df = df.dropna(subset=[column])\n",
    "    for i, presplit in enumerate(df[column].astype(str)):\n",
    "        values = presplit.split(sep)\n",
    "        if keep and len(values) > 1:\n",
    "            indexes.append(i)\n",
    "            new_values.append(presplit)\n",
    "        for value in values:\n",
    "            indexes.append(i)\n",
    "            new_values.append(value)\n",
    "    new_df = df.iloc[indexes, :].copy()\n",
    "    new_df[column] = new_values\n",
    "    return(new_df)"
   ]
  },
  {
   "cell_type": "code",
   "execution_count": 17,
   "metadata": {},
   "outputs": [],
   "source": [
    "dist = tidy_split(dist, \"distribution\")"
   ]
  },
  {
   "cell_type": "code",
   "execution_count": 18,
   "metadata": {},
   "outputs": [],
   "source": [
    "dist_all = dist.distribution.value_counts().keys()[1:200]"
   ]
  },
  {
   "cell_type": "code",
   "execution_count": 19,
   "metadata": {},
   "outputs": [],
   "source": [
    "def get_dummies(data, column):\n",
    "    \"\"\"Return movies dataset with dummy genre variables.\"\"\"\n",
    "    subset = data[column].str.get_dummies(sep=\",\")\n",
    "    data.index = subset.index\n",
    "    final_df = pd.concat([data, subset], axis=1)\n",
    "    final_df.drop(columns=[column], inplace=True)\n",
    "    return final_df"
   ]
  },
  {
   "cell_type": "code",
   "execution_count": 20,
   "metadata": {},
   "outputs": [],
   "source": [
    "df_additional[\"distribution1\"], df_additional[\"distribution2\"] = (\n",
    "    df_additional[\"distribution\"].str.split(\",\", 1).str\n",
    ")"
   ]
  },
  {
   "cell_type": "code",
   "execution_count": 21,
   "metadata": {},
   "outputs": [],
   "source": [
    "df_additional[\"distribution2\"], df_additional[\"distribution3\"] = (\n",
    "    df_additional[\"distribution2\"].str.split(\",\", 1).str\n",
    ")"
   ]
  },
  {
   "cell_type": "code",
   "execution_count": 22,
   "metadata": {},
   "outputs": [],
   "source": [
    "df_additional[\"distribution3\"], df_additional[\"distribution4\"] = (\n",
    "    df_additional[\"distribution3\"].str.split(\",\", 1).str\n",
    ")"
   ]
  },
  {
   "cell_type": "code",
   "execution_count": 23,
   "metadata": {},
   "outputs": [],
   "source": [
    "df_additional[\"distribution4\"], df_additional[\"distribution5\"] = (\n",
    "    df_additional[\"distribution4\"].str.split(\",\", 1).str\n",
    ")"
   ]
  },
  {
   "cell_type": "code",
   "execution_count": 24,
   "metadata": {},
   "outputs": [],
   "source": [
    "df_additional[\"distribution5\"], df_additional[\"distribution6\"] = (\n",
    "    df_additional[\"distribution5\"].str.split(\",\", 1).str\n",
    ")"
   ]
  },
  {
   "cell_type": "code",
   "execution_count": 36,
   "metadata": {},
   "outputs": [],
   "source": [
    "def distribution_correct(row):\n",
    "    if row[\"distribution6\"] in dist_all:\n",
    "        return row[\"distribution6\"]\n",
    "    return np.nan"
   ]
  },
  {
   "cell_type": "code",
   "execution_count": 37,
   "metadata": {},
   "outputs": [],
   "source": [
    "df_additional[\"distribution6\"] = df_additional.apply(\n",
    "    lambda row: distribution_correct(row), axis=1\n",
    ")"
   ]
  },
  {
   "cell_type": "code",
   "execution_count": 38,
   "metadata": {},
   "outputs": [],
   "source": [
    "df_additional.iloc[:, 6:] = df_additional.iloc[:, 6:].replace(np.nan, \"\")"
   ]
  },
  {
   "cell_type": "code",
   "execution_count": 39,
   "metadata": {},
   "outputs": [],
   "source": [
    "df_additional[\"distributions\"] = (\n",
    "    df_additional[\"distribution1\"]\n",
    "    + \",\"\n",
    "    + df_additional[\"distribution2\"]\n",
    "    + \",\"\n",
    "    + df_additional[\"distribution3\"]\n",
    "    + \",\"\n",
    "    + df_additional[\"distribution4\"]\n",
    "    + \",\"\n",
    "    + df_additional[\"distribution5\"]\n",
    "    + \",\"\n",
    "    + df_additional[\"distribution6\"]\n",
    ")"
   ]
  },
  {
   "cell_type": "code",
   "execution_count": 40,
   "metadata": {},
   "outputs": [],
   "source": [
    "df_additional.drop(\n",
    "    columns=[\n",
    "        \"distribution1\",\n",
    "        \"distribution2\",\n",
    "        \"distribution3\",\n",
    "        \"distribution4\",\n",
    "        \"distribution5\",\n",
    "        \"distribution6\",\n",
    "    ],\n",
    "    inplace=True,\n",
    ")"
   ]
  },
  {
   "cell_type": "code",
   "execution_count": 41,
   "metadata": {},
   "outputs": [],
   "source": [
    "df_additional2 = get_dummies(df_additional, \"distributions\")"
   ]
  },
  {
   "cell_type": "code",
   "execution_count": 47,
   "metadata": {},
   "outputs": [],
   "source": [
    "df_additional2.drop(columns=\"distribution\", inplace=True)"
   ]
  },
  {
   "cell_type": "code",
   "execution_count": 42,
   "metadata": {},
   "outputs": [],
   "source": [
    "def decide_color(row):\n",
    "    if row[\"colors\"] == \"color\":\n",
    "        return 0\n",
    "    if row[\"colors\"] == \"black_and_white\":\n",
    "        return 1\n",
    "    return np.nan"
   ]
  },
  {
   "cell_type": "code",
   "execution_count": 43,
   "metadata": {},
   "outputs": [],
   "source": [
    "df_additional2[\"is_black_and_white\"] = df_additional2.apply(lambda row: decide_color(row), axis=1)\n",
    "df_additional2[\"is_black_and_white\"] = df_additional2[\"is_black_and_white\"].astype(bool)\n",
    "df_additional2.drop(columns=\"colors\", inplace=True)"
   ]
  },
  {
   "cell_type": "code",
   "execution_count": 52,
   "metadata": {},
   "outputs": [],
   "source": [
    "df_additional2.to_csv(\"data/additional_info_final.csv\")"
   ]
  }
 ],
 "metadata": {
  "kernelspec": {
   "display_name": "Python 3",
   "language": "python",
   "name": "python3"
  },
  "language_info": {
   "codemirror_mode": {
    "name": "ipython",
    "version": 3
   },
   "file_extension": ".py",
   "mimetype": "text/x-python",
   "name": "python",
   "nbconvert_exporter": "python",
   "pygments_lexer": "ipython3",
   "version": "3.7.1"
  }
 },
 "nbformat": 4,
 "nbformat_minor": 2
}
